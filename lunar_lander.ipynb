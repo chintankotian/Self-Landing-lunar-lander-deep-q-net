{
  "nbformat": 4,
  "nbformat_minor": 0,
  "metadata": {
    "colab": {
      "name": "lunar lander.ipynb",
      "version": "0.3.2",
      "provenance": [],
      "collapsed_sections": [],
      "toc_visible": true,
      "include_colab_link": true
    },
    "language_info": {
      "codemirror_mode": {
        "name": "ipython",
        "version": 2
      },
      "file_extension": ".py",
      "mimetype": "text/x-python",
      "name": "python",
      "nbconvert_exporter": "python",
      "pygments_lexer": "ipython2",
      "version": "2.7.15"
    },
    "kernelspec": {
      "name": "python3",
      "display_name": "Python 3"
    },
    "accelerator": "GPU"
  },
  "cells": [
    {
      "cell_type": "markdown",
      "metadata": {
        "id": "view-in-github",
        "colab_type": "text"
      },
      "source": [
        "<a href=\"https://colab.research.google.com/github/chintankotian/Self-Landing-lunar-lander-deep-q-net/blob/master/lunar_lander.ipynb\" target=\"_parent\"><img src=\"https://colab.research.google.com/assets/colab-badge.svg\" alt=\"Open In Colab\"/></a>"
      ]
    },
    {
      "cell_type": "markdown",
      "metadata": {
        "id": "zjInAsQBWcoJ",
        "colab_type": "text"
      },
      "source": [
        "##Install Dependencies\n",
        "```\n",
        "\n"
      ]
    },
    {
      "cell_type": "code",
      "metadata": {
        "id": "jWFSV5ZS5b8p",
        "colab_type": "code",
        "outputId": "0cf9ba4a-9b47-4356-d394-eda3c0245bc7",
        "colab": {
          "base_uri": "https://localhost:8080/",
          "height": 72
        }
      },
      "source": [
        "!pip install box2d-py\n",
        "!pip install pyglet==1.3.2\n",
        "!apt-get install -y xvfb python-opengl > /dev/null 2>&1\n",
        "!pip install gym pyvirtualdisplay > /dev/null 2>&1"
      ],
      "execution_count": 0,
      "outputs": [
        {
          "output_type": "stream",
          "text": [
            "Requirement already satisfied: box2d-py in /usr/local/lib/python3.6/dist-packages (2.3.8)\n",
            "Requirement already satisfied: pyglet==1.3.2 in /usr/local/lib/python3.6/dist-packages (1.3.2)\n",
            "Requirement already satisfied: future in /usr/local/lib/python3.6/dist-packages (from pyglet==1.3.2) (0.16.0)\n"
          ],
          "name": "stdout"
        }
      ]
    },
    {
      "cell_type": "markdown",
      "metadata": {
        "id": "rpdNPEXE6GUI",
        "colab_type": "text"
      },
      "source": [
        "##Import Required library"
      ]
    },
    {
      "cell_type": "code",
      "metadata": {
        "id": "sFRQa-LP0JN3",
        "colab_type": "code",
        "colab": {}
      },
      "source": [
        "import tensorflow as tf\n",
        "import numpy as np\n",
        "from tensorflow.keras.layers import Dense,Conv2D,Dropout,MaxPooling2D,Input\n",
        "from tensorflow.keras.models import Model\n",
        "from tensorflow.keras.optimizers import Adam\n",
        "import gym\n",
        "import Box2D\n",
        "import matplotlib.pyplot as plt\n",
        "from tqdm import tqdm\n",
        "import random\n",
        "from IPython import display as ipythondisplay\n",
        "from pyvirtualdisplay import Display\n",
        "from IPython import display as ipythondisplay\n",
        "import matplotlib.animation as ani"
      ],
      "execution_count": 0,
      "outputs": []
    },
    {
      "cell_type": "markdown",
      "metadata": {
        "id": "vzQKsdiY6OPH",
        "colab_type": "text"
      },
      "source": [
        "##We need to use a virtual display ,coz google collab doesn't have a display"
      ]
    },
    {
      "cell_type": "code",
      "metadata": {
        "id": "DMhDEoFl6NYG",
        "colab_type": "code",
        "outputId": "4942eafa-4495-4d37-ccfb-4a935fb4f563",
        "colab": {
          "base_uri": "https://localhost:8080/",
          "height": 92
        }
      },
      "source": [
        "display = Display(visible=0, size=(400, 300))\n",
        "display.start()"
      ],
      "execution_count": 2,
      "outputs": [
        {
          "output_type": "stream",
          "text": [
            "WARNING: Logging before flag parsing goes to stderr.\n",
            "W0721 10:09:49.747256 139922536294272 abstractdisplay.py:151] xdpyinfo was not found, X start can not be checked! Please install xdpyinfo!\n"
          ],
          "name": "stderr"
        },
        {
          "output_type": "execute_result",
          "data": {
            "text/plain": [
              "<Display cmd_param=['Xvfb', '-br', '-nolisten', 'tcp', '-screen', '0', '400x300x24', ':1021'] cmd=['Xvfb', '-br', '-nolisten', 'tcp', '-screen', '0', '400x300x24', ':1021'] oserror=None return_code=None stdout=\"None\" stderr=\"None\" timeout_happened=False>"
            ]
          },
          "metadata": {
            "tags": []
          },
          "execution_count": 2
        }
      ]
    },
    {
      "cell_type": "markdown",
      "metadata": {
        "colab_type": "text",
        "id": "VqukducXXd-J"
      },
      "source": [
        "##Creating Enviroment"
      ]
    },
    {
      "cell_type": "code",
      "metadata": {
        "colab_type": "code",
        "id": "ywoWDvpjXd-C",
        "colab": {}
      },
      "source": [
        "env = gym.make('LunarLander-v2')"
      ],
      "execution_count": 0,
      "outputs": []
    },
    {
      "cell_type": "markdown",
      "metadata": {
        "id": "tSRrByZTPgZx",
        "colab_type": "text"
      },
      "source": [
        "##Creating Model"
      ]
    },
    {
      "cell_type": "code",
      "metadata": {
        "colab_type": "code",
        "id": "3Ij8TjgTXd9-",
        "colab": {}
      },
      "source": [
        "inputs = Input(shape=(8,))\n",
        "dense1 = Dense(1028,activation='relu')(inputs)\n",
        "dense4 = Dense(1028,activation='relu')(dense1)\n",
        "output = Dense(4,activation='softmax')(dense4)\n",
        "model = Model(inputs=inputs,outputs=output)"
      ],
      "execution_count": 0,
      "outputs": []
    },
    {
      "cell_type": "code",
      "metadata": {
        "colab_type": "code",
        "id": "0iMT6d_0Xd93",
        "colab": {}
      },
      "source": [
        "inp = Input(shape=(8,))\n",
        "d1 = Dense(1028,activation='relu')(inp)\n",
        "d2 = Dense(1028,activation='relu')(d1)\n",
        "out = Dense(4,activation='softmax')(d2)\n",
        "target_model = Model(inputs=inp,outputs=out)"
      ],
      "execution_count": 0,
      "outputs": []
    },
    {
      "cell_type": "code",
      "metadata": {
        "colab_type": "code",
        "id": "t7KBzOw6Xd9z",
        "colab": {}
      },
      "source": [
        "lr = 0.80\n",
        "yr = 0.85"
      ],
      "execution_count": 0,
      "outputs": []
    },
    {
      "cell_type": "code",
      "metadata": {
        "colab_type": "code",
        "id": "pqGJwUTMXd9u",
        "colab": {}
      },
      "source": [
        "adam = Adam(lr=0.0001)\n",
        "model.compile(optimizer=adam,loss='mse',metrics=['accuracy'])\n",
        "target_model.compile(optimizer=adam,loss='mse',metrics=['accuracy'])\n"
      ],
      "execution_count": 0,
      "outputs": []
    },
    {
      "cell_type": "markdown",
      "metadata": {
        "id": "BoJC1Ew67t9L",
        "colab_type": "text"
      },
      "source": [
        "##Memory for Experience Replay"
      ]
    },
    {
      "cell_type": "code",
      "metadata": {
        "colab_type": "code",
        "id": "NA4Ts-U8Xd9q",
        "colab": {}
      },
      "source": [
        "memory = []"
      ],
      "execution_count": 0,
      "outputs": []
    },
    {
      "cell_type": "markdown",
      "metadata": {
        "id": "ccq1pcPn7371",
        "colab_type": "text"
      },
      "source": [
        "##Training the  model , whose weights will to transferred to target model"
      ]
    },
    {
      "cell_type": "code",
      "metadata": {
        "colab_type": "code",
        "id": "CZkidxwjXd9l",
        "colab": {}
      },
      "source": [
        "def train_target():\n",
        "    samples = random.sample(memory,32)\n",
        "    if(len(memory)>300):\n",
        "        memory[:] = []\n",
        "    for sample in samples:\n",
        "        state,new_state,reward,done,action_taken = sample\n",
        "        target = target_model.predict([[state]])\n",
        "        if(done):\n",
        "            target[0][action_taken] = reward\n",
        "        else:\n",
        "            target[0][action_taken] = reward + yr*(np.max(target_model.predict([[new_state]])))\n",
        "        model.fit([[state]],[target],epochs=1,verbose=0)"
      ],
      "execution_count": 0,
      "outputs": []
    },
    {
      "cell_type": "markdown",
      "metadata": {
        "id": "GtpVT0uQ8HG4",
        "colab_type": "text"
      },
      "source": [
        "##Function for transferring weights of model to target model"
      ]
    },
    {
      "cell_type": "code",
      "metadata": {
        "colab_type": "code",
        "id": "wpNbHc4-Xd9h",
        "colab": {}
      },
      "source": [
        "def transfer_weights():\n",
        "    weights_model = model.get_weights()\n",
        "    weights_target = target_model.get_weights()\n",
        "    for i in range(len(weights_model)):\n",
        "        weights_target[i] = weights_model[i]\n",
        "    target_model.set_weights(weights_target)            "
      ],
      "execution_count": 0,
      "outputs": []
    },
    {
      "cell_type": "markdown",
      "metadata": {
        "id": "4xUqA5k98TvW",
        "colab_type": "text"
      },
      "source": [
        "##Training Loop"
      ]
    },
    {
      "cell_type": "code",
      "metadata": {
        "colab_type": "code",
        "id": "NPiRdRaoXd9c",
        "colab": {}
      },
      "source": [
        "# DIRECT ACTION REPLAY  LEARNING\n",
        "display = Display(visible=0, size=(400, 300))\n",
        "display.start()\n",
        "reward_all = []\n",
        "img_array = []\n",
        "fig = plt.figure()\n",
        "for i in tqdm(range(500)):\n",
        "    reset = False\n",
        "    state = env.reset()\n",
        "    action_taken = env.action_space.sample()\n",
        "    while(not reset):\n",
        "        action = model.predict([[state]])\n",
        "        action_taken = np.argmax(action)\n",
        "        new_state,reward,reset,_ = env.step(action_taken)\n",
        "        target_action = action\n",
        "        memory.append([state,new_state,reward,reset,action_taken])\n",
        "        \n",
        "        if(len(memory)>32):\n",
        "            if(i%10 == 0):\n",
        "                train_target()\n",
        "        if(i%20 == 0):\n",
        "            obs = env.render(mode=\"rgb_array\")\n",
        "            img_array.append([plt.imshow(obs,animated=True)])\n",
        "        if(i%5 == 0):\n",
        "            transfer_weights()\n",
        "        \n",
        "        state = new_state\n",
        "video = ani.ArtistAnimation(fig,img_array,interval=20,repeat_delay=1)\n",
        "env.close()"
      ],
      "execution_count": 0,
      "outputs": []
    },
    {
      "cell_type": "code",
      "metadata": {
        "id": "ccGI1qvU8kq2",
        "colab_type": "code",
        "colab": {}
      },
      "source": [
        "video.save('training.mp4')"
      ],
      "execution_count": 0,
      "outputs": []
    },
    {
      "cell_type": "markdown",
      "metadata": {
        "id": "ZhRtZcMy8q3u",
        "colab_type": "text"
      },
      "source": [
        "##Testing Loop"
      ]
    },
    {
      "cell_type": "code",
      "metadata": {
        "scrolled": true,
        "colab_type": "code",
        "id": "qRqAPhduXd8k",
        "colab": {}
      },
      "source": [
        "reward_tot = []\n",
        "img = []\n",
        "fig = plt.figure()\n",
        "for i in range(10):\n",
        "    reset = False\n",
        "    state = env.reset()\n",
        "    reward_all = []\n",
        "    while(not reset):\n",
        "        action = model.predict([[state]])\n",
        "        new_state,reward,reset,_ = env.step(np.argmax(action))\n",
        "#             print(action)\n",
        "        state = new_state\n",
        "        reward_all.append(reward)\n",
        "        if(reward > 50):\n",
        "            print(reward)\n",
        "        if(reset):\n",
        "#             print(sum(reward_all))\n",
        "            reward_tot.append(sum(reward_all))\n",
        "        screen = env.render(mode='rgb_array')\n",
        "        img.append([plt.imshow(screen,animated=True)])\n",
        "    \n",
        "test_video = ani.ArtistAnimation(fig,img,interval=20,repeat_delay = 1)\n",
        "env.close()\n",
        "plt.show()\n",
        "print(sum(reward_tot)/20)"
      ],
      "execution_count": 0,
      "outputs": []
    },
    {
      "cell_type": "code",
      "metadata": {
        "id": "JffvhAwtmHfS",
        "colab_type": "code",
        "colab": {}
      },
      "source": [
        "test_video.save('test.mp4')"
      ],
      "execution_count": 0,
      "outputs": []
    },
    {
      "cell_type": "code",
      "metadata": {
        "colab_type": "code",
        "id": "uK56OldLXd8Y",
        "colab": {}
      },
      "source": [
        "model.save('lunarlander.h5')"
      ],
      "execution_count": 0,
      "outputs": []
    },
    {
      "cell_type": "code",
      "metadata": {
        "id": "5igS1N0axTyK",
        "colab_type": "code",
        "colab": {}
      },
      "source": [
        "model = tf.keras.models.load_model('lunarlander.h5')"
      ],
      "execution_count": 0,
      "outputs": []
    }
  ]
}